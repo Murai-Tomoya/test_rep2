{
 "cells": [
  {
   "cell_type": "code",
   "execution_count": null,
   "metadata": {},
   "outputs": [],
   "source": [
    "import requests\n",
    "\n",
    "print(\"GETメソッド\")\n",
    "response = requests.get(\"https://zipcloud.ibsnet.co.jp/api/search\", params={\"zipcode\": \"1010061\"})\n",
    "address = response.json()[\"results\"][0]\n",
    "print(address)\n",
    "print(address[\"address1\"], address[\"address2\"], address[\"address3\"])\n",
    "\n",
    "print(\"¥nPOSTメソッド\")\n",
    "response = requests.post(\"https://zipcloud.ibsnet.co.jp/api/search\", data={\"zipcode\": \"1010061\"})\n",
    "address = response.json()[\"results\"][0]\n",
    "print(address)\n",
    "print(address[\"address1\"], address[\"address2\"], address[\"address3\"])"
   ]
  }
 ],
 "metadata": {
  "kernelspec": {
   "display_name": "Python 3",
   "language": "python",
   "name": "python3"
  },
  "language_info": {
   "codemirror_mode": {
    "name": "ipython",
    "version": 3
   },
   "file_extension": ".py",
   "mimetype": "text/x-python",
   "name": "python",
   "nbconvert_exporter": "python",
   "pygments_lexer": "ipython3",
   "version": "3.7.3"
  }
 },
 "nbformat": 4,
 "nbformat_minor": 2
}
